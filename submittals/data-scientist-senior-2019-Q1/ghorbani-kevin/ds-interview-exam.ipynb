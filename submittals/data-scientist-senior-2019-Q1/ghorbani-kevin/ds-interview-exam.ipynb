{
 "cells": [
  {
   "cell_type": "code",
   "execution_count": 1,
   "metadata": {},
   "outputs": [],
   "source": [
    "import numpy as np\n",
    "import warnings\n",
    "import math\n",
    "import matplotlib\n",
    "import matplotlib.pylab as plt"
   ]
  },
  {
   "cell_type": "code",
   "execution_count": 2,
   "metadata": {},
   "outputs": [],
   "source": [
    "% matplotlib inline"
   ]
  },
  {
   "cell_type": "markdown",
   "metadata": {},
   "source": [
    "## 1. Algo + Data Structures"
   ]
  },
  {
   "cell_type": "markdown",
   "metadata": {},
   "source": [
    "###  Q 1.1: Fibionacci"
   ]
  },
  {
   "cell_type": "markdown",
   "metadata": {},
   "source": [
    "#### Q 1.1.1"
   ]
  },
  {
   "cell_type": "code",
   "execution_count": 3,
   "metadata": {},
   "outputs": [],
   "source": [
    "def fibonacci(n):\n",
    "    \"\"\"Returns the 'n'th fibonacci number.\n",
    "    This is a recursive function.\n",
    "    \"\"\"\n",
    "    \n",
    "    if n < 1 or n != int(n): # this line can be removed for speed if we are sure of the input\n",
    "        warnings.warn('\\\"n\\\" must be a positive integer.' ,DeprecationWarning)\n",
    "        return\n",
    "    \n",
    "    if n == 1:\n",
    "        return 1\n",
    "    \n",
    "    if n == 2:\n",
    "        return 1\n",
    "    \n",
    "    return fibonacci(n - 1) + fibonacci(n - 2)"
   ]
  },
  {
   "cell_type": "markdown",
   "metadata": {},
   "source": [
    "Note: I have not included the tests that I did so I make sure the function works in all circumstances. But those are important part of the process."
   ]
  },
  {
   "cell_type": "markdown",
   "metadata": {},
   "source": [
    "#### Q 1.1.2"
   ]
  },
  {
   "cell_type": "markdown",
   "metadata": {},
   "source": [
    "Since at each step we run an additional 2 fibonacci functions, the complexity is $O(2^n)$."
   ]
  },
  {
   "cell_type": "markdown",
   "metadata": {},
   "source": [
    "#### Q 1.1.3"
   ]
  },
  {
   "cell_type": "markdown",
   "metadata": {},
   "source": [
    "(this is a shared answer for Q 1.1.3 and Q 1.1.5)\n",
    "\n",
    "To decrease the complexity and memory use, as well as performance, I made the function a bit more complicated.\n",
    "\n",
    "A simple way to decrease the complexity would be to save the the previous values of the sequence in a list and append the end by adding the last two (or memoization). But this uses a lot of memory if we only are interested in the last value but not the whole sequence. Reading a list does not add to the complexity (it's $O(n)$) but it deceases the performance.\n",
    "\n",
    "Next approach would be to only save the last two values, $last_val$ and $one_to_last_val$. The code this way would be easier to interpret, as long as we swap these values each time. This deceases the performance (it's complexity of $O(1)$ does not effect our complexity). This is a very small so in a real world Fibonacci code, this should be fine for next to all problems.\n",
    "\n",
    "But we can go further. We can avoid the swapping and just remembering which varibale is the last one.\n",
    "\n",
    "And even a bit more further (my answer), and avoid that remembering part. From $2$ to $n$ (or $n-1$ if $n$ is odd) we perform counting up the sequence. Ergo the loop of $floor((n-2)/2)$ (divided by 2 so we don't have to remember which variable is which). At the end if $n$ was even we return $temp_variable_2$ and if it was odd, we just have to do the add up one more time and return the value."
   ]
  },
  {
   "cell_type": "code",
   "execution_count": 4,
   "metadata": {},
   "outputs": [],
   "source": [
    "def fibonacci2(n):\n",
    "    \"\"\"Returns the 'n'th fibonacci number.\n",
    "    This is not a recursive function.\n",
    "    \"\"\"\n",
    "    \n",
    "    if n < 1 or n != int(n): # this line can be removed for speed if we are sure of the input\n",
    "        warnings.warn('\\\"n\\\" must be a positive integer.' ,DeprecationWarning)\n",
    "        return\n",
    "    \n",
    "    if n == 1:\n",
    "        return 1\n",
    "    \n",
    "    if n == 2:\n",
    "        return 1\n",
    "    \n",
    "    temp_variable_1 = 1\n",
    "    temp_variable_2 = 1\n",
    "    \n",
    "    for _ in range(math.floor((n - 2)/2)):\n",
    "        temp_variable_1 = temp_variable_1 + temp_variable_2\n",
    "        temp_variable_2 = temp_variable_1 + temp_variable_2\n",
    "    \n",
    "    if n % 2:\n",
    "        return temp_variable_1 + temp_variable_2\n",
    "    else:\n",
    "        return temp_variable_2"
   ]
  },
  {
   "cell_type": "code",
   "execution_count": 5,
   "metadata": {},
   "outputs": [
    {
     "name": "stdout",
     "output_type": "stream",
     "text": [
      "1\n",
      "1\n",
      "2\n",
      "3\n",
      "5\n",
      "8\n",
      "13\n",
      "21\n",
      "34\n",
      "55\n",
      "89\n",
      "144\n",
      "233\n",
      "377\n",
      "610\n",
      "987\n",
      "1597\n",
      "2584\n",
      "4181\n",
      "6765\n"
     ]
    }
   ],
   "source": [
    "# Test of fibonacci2 function\n",
    "\n",
    "for i in range(20):\n",
    "    print(fibonacci2(i+1))"
   ]
  },
  {
   "cell_type": "markdown",
   "metadata": {},
   "source": [
    "#### Q 1.1.4"
   ]
  },
  {
   "cell_type": "markdown",
   "metadata": {},
   "source": [
    "Complexity in this example is $O(n)$."
   ]
  },
  {
   "cell_type": "markdown",
   "metadata": {},
   "source": [
    "#### Q 1.1.5"
   ]
  },
  {
   "cell_type": "markdown",
   "metadata": {},
   "source": [
    "Please read the description answer to Q 1.1.5 as I have tried to implement most of optimizations I could think of and implement them in my answer\n",
    "\n",
    "However, the answer is for when we only want the $n$'th value. If we want to have the whole sequence (like the loop test 2 lines above), we should save the function some how that it would save the sequence and return the whole sequence as it would improve the complexity from $O(n^2)$ to $O(n)$. So this is very problem dependent."
   ]
  },
  {
   "cell_type": "markdown",
   "metadata": {},
   "source": [
    "### Q 1.2: Linked List"
   ]
  },
  {
   "cell_type": "markdown",
   "metadata": {},
   "source": [
    "#### Q 1.2.1"
   ]
  },
  {
   "cell_type": "code",
   "execution_count": 6,
   "metadata": {},
   "outputs": [],
   "source": [
    "class Node:\n",
    "    \n",
    "    # Initializing the Node\n",
    "    def __init__(self, data):\n",
    "        self.data = data\n",
    "        self.next = None\n",
    "\n",
    "class LinkeList:\n",
    "    \n",
    "    # Initializing the class\n",
    "    def __init__(self):\n",
    "        self.head = None\n",
    "        \n",
    "    def push(self, data):\n",
    "        new_node = Node(data)\n",
    "        new_node.next = self.head\n",
    "        self.head = new_node\n",
    "        \n",
    "    def pop(self):\n",
    "        data = self.head.data\n",
    "        self.head = self.head.next\n",
    "        return data\n",
    "    \n",
    "    def pop_last(self):\n",
    "        current = self.head\n",
    "        while current.next is not None:\n",
    "            previous = current\n",
    "            current = current.next\n",
    "        data = current.data\n",
    "        previous.next = None\n",
    "        return data\n",
    "\n",
    "    def printList(self): \n",
    "        temp = self.head \n",
    "        while temp: \n",
    "            print(temp.data) \n",
    "            temp = temp.next\n",
    "            \n",
    "    def reverse_linked_list(self):\n",
    "        \"\"\" Reveses the linked list\"\"\"\n",
    "\n",
    "        current = self.head\n",
    "        previous = None\n",
    "        while current is not None:\n",
    "            next_ = current.next\n",
    "            current.next = previous\n",
    "            previous = current\n",
    "            current = next_\n",
    "        self.head = previous\n",
    "    \n",
    "    def size(self):\n",
    "        length = 0\n",
    "        current = self.head\n",
    "        while current:\n",
    "            length += 1\n",
    "            current = current.next\n",
    "        return length\n",
    "        \n",
    "    # cut function in half\n",
    "    def cut_list_in_half(self):\n",
    "        \"\"\" Cutting a linked list in half.\n",
    "        If the lenght of the list is odd then we throw out the middle element.\n",
    "        \"\"\"\n",
    "        \n",
    "        length = self.size()\n",
    "        \n",
    "        if length == 0:\n",
    "            print('Zero size list cannot be cut in half')\n",
    "            return\n",
    "        \n",
    "        current = self.head\n",
    "        second_half_list = LinkeList()\n",
    "        for i in range(math.floor((length - 2) / 2)):\n",
    "            current = current.next\n",
    "        if length % 2:\n",
    "            second_half_list.head = current.next.next\n",
    "            current.next = None\n",
    "        else:\n",
    "            second_half_list.head = current.next\n",
    "            current.next = None\n",
    "\n",
    "        return self, second_half_list"
   ]
  },
  {
   "cell_type": "code",
   "execution_count": 7,
   "metadata": {},
   "outputs": [],
   "source": [
    "def is_palindrome(L):\n",
    "    \"\"\" Returns whether or not the linked list is a palindrome.\n",
    "    pops data from head and tail of the list and compares them.\n",
    "    \"\"\"\n",
    "    size = L.size()\n",
    "    if size == 0:\n",
    "        return True\n",
    "    \n",
    "    for _ in range(size):\n",
    "        try:\n",
    "            if L.pop() != L.pop_last():\n",
    "                return False\n",
    "        except:\n",
    "            # no more data to pop\n",
    "            return True\n",
    "    "
   ]
  },
  {
   "cell_type": "markdown",
   "metadata": {},
   "source": [
    "It is possible to modify this to not to destroy the list by popping $i$'th and $(N-i)$'th element. This will not add to the complexity but it would decrease the performance."
   ]
  },
  {
   "cell_type": "markdown",
   "metadata": {},
   "source": [
    "#### Q 1.2.2"
   ]
  },
  {
   "cell_type": "markdown",
   "metadata": {},
   "source": [
    "get size $O(n)$, pop from last is $O(n)$ and it has done $n/2$ times. So the complexity if $O(n^2)$."
   ]
  },
  {
   "cell_type": "markdown",
   "metadata": {},
   "source": [
    "#### Q 1.2.3"
   ]
  },
  {
   "cell_type": "markdown",
   "metadata": {},
   "source": [
    "I used and modified the functions in the LinkedLink class defined in Q 1.2.1."
   ]
  },
  {
   "cell_type": "markdown",
   "metadata": {},
   "source": [
    "This functions destroy the linked list, but it is delibrate to not to write anything extra on memory (it has a $O(1)$ memory complexity). Alternatively we can write a copy function to copy the original list."
   ]
  },
  {
   "cell_type": "code",
   "execution_count": 8,
   "metadata": {},
   "outputs": [],
   "source": [
    "def is_palindrome2(L):\n",
    "    \"\"\" Cut list in half and compare them.\n",
    "    If first half is equal to the reverse of the second half\n",
    "    then it is palindrom and function returns True\n",
    "    \"\"\"\n",
    "    \n",
    "    try:\n",
    "        first_half_list, second_half_list = L.cut_list_in_half()\n",
    "    except:\n",
    "        # if size is zero it is a palindrome\n",
    "        return True\n",
    "    \n",
    "    second_half_list.reverse_linked_list()\n",
    "\n",
    "    first_list_size = first_half_list.size()\n",
    "    second_list_size = second_half_list.size()\n",
    "    if first_list_size != second_list_size:\n",
    "        return False\n",
    "    \n",
    "    for _ in range(first_list_size):\n",
    "        if first_half_list.pop() != second_half_list.pop():\n",
    "            return False\n",
    "    return True"
   ]
  },
  {
   "cell_type": "markdown",
   "metadata": {},
   "source": [
    "#### Q 1.2.4"
   ]
  },
  {
   "cell_type": "markdown",
   "metadata": {},
   "source": [
    "get size $O(n)$, then cut in half $O(n)$, reverse $O(n)$ and then compare $O(n)$. So the complexity if $O(n)$."
   ]
  },
  {
   "cell_type": "markdown",
   "metadata": {},
   "source": [
    "#### Q 1.2.5"
   ]
  },
  {
   "cell_type": "markdown",
   "metadata": {},
   "source": [
    "Converting the singly-linked-list to a doubly-linked-list would be one way to improve the performance. However, this would increase the memory complexity from $O(1)$ to $O(n)$, and does not change the complexity. But since we do not need to run cutting and reversing the list, preformance increases. This would also preserve the linked-list, so if that is the our intent, memory complexity can be justified."
   ]
  },
  {
   "cell_type": "markdown",
   "metadata": {},
   "source": [
    "## 2. Prob + Stats"
   ]
  },
  {
   "cell_type": "markdown",
   "metadata": {},
   "source": [
    "### Q 2.1: Finding $\\pi$ in a random uniform?"
   ]
  },
  {
   "cell_type": "code",
   "execution_count": 9,
   "metadata": {},
   "outputs": [],
   "source": [
    "def compute_pi(n):\n",
    "    \"\"\"Returns pi and its error.\n",
    "    'n' is the number of trials.\n",
    "    \"\"\"\n",
    "    \n",
    "    counter = 0\n",
    "\n",
    "    for _ in range(n):\n",
    "        # math.hypot returns the Euclidean norm, sqrt(x*x + y*y)\n",
    "        if math.hypot(np.random.rand(), np.random.rand()) < 1:\n",
    "            counter += 1\n",
    "\n",
    "    pi_ = 4. * counter / n\n",
    "    error = math.sqrt(((4 / pi_) - 1) / n)\n",
    "    \n",
    "    return {'pi':pi_, 'error': error}"
   ]
  },
  {
   "cell_type": "code",
   "execution_count": 11,
   "metadata": {},
   "outputs": [
    {
     "data": {
      "text/plain": [
       "{'error': 0.0016493576306512079, 'pi': 3.14456}"
      ]
     },
     "execution_count": 11,
     "metadata": {},
     "output_type": "execute_result"
    }
   ],
   "source": [
    "compute_pi(100000)"
   ]
  },
  {
   "cell_type": "markdown",
   "metadata": {},
   "source": [
    "### Q 2.2: Making a 6-side die roll a 7?"
   ]
  },
  {
   "cell_type": "markdown",
   "metadata": {},
   "source": [
    "Easiest way would be getting a mod of sum of 7 dice."
   ]
  },
  {
   "cell_type": "code",
   "execution_count": 12,
   "metadata": {},
   "outputs": [],
   "source": [
    "def dice_roll_seven():\n",
    "    \"\"\"Returns a random number between 1 and 7 (inclusive)\n",
    "    by rolling six sided dice.\n",
    "    \"\"\"\n",
    "    \n",
    "    return (sum(np.random.randint(6, size=7)) % 7) + 1"
   ]
  },
  {
   "cell_type": "code",
   "execution_count": 13,
   "metadata": {},
   "outputs": [
    {
     "data": {
      "text/plain": [
       "<matplotlib.text.Text at 0x7f8c3a294550>"
      ]
     },
     "execution_count": 13,
     "metadata": {},
     "output_type": "execute_result"
    },
    {
     "data": {
      "image/png": "[encoded data removed]",
      "text/plain": [
       "<matplotlib.figure.Figure at 0x7f8c3c2e35c0>"
      ]
     },
     "metadata": {},
     "output_type": "display_data"
    }
   ],
   "source": [
    "# Just a simple plot to show the result\n",
    "\n",
    "n = 70000\n",
    "\n",
    "dice_array = np.empty(n)\n",
    "\n",
    "for i in range(n):\n",
    "    dice_array[i] = dice_roll_seven()\n",
    "\n",
    "plt.hist(dice_array, bins=range(1,9),\n",
    "         align='left',\n",
    "         normed=True)\n",
    "\n",
    "plt.ylabel('probability')"
   ]
  },
  {
   "cell_type": "markdown",
   "metadata": {},
   "source": [
    "### Q 2.3: Is normality uniform?"
   ]
  },
  {
   "cell_type": "markdown",
   "metadata": {},
   "source": [
    "We can use probability integral transform, regardless of the input distribution. We make a ECDF of the distribution and inverse it."
   ]
  },
  {
   "cell_type": "code",
   "execution_count": 14,
   "metadata": {},
   "outputs": [],
   "source": [
    "def ecdf(data):\n",
    "    \"\"\"Compute ECDF for a one-dimensional array of measurements.\"\"\"\n",
    "    # Number of data points: n\n",
    "    n = len(data)\n",
    "\n",
    "    # x-data for the ECDF: x\n",
    "    x = np.sort(data)\n",
    "\n",
    "    # y-data for the ECDF: y\n",
    "    y = np.arange(1, n + 1) / n\n",
    "\n",
    "    return x, y"
   ]
  },
  {
   "cell_type": "code",
   "execution_count": 15,
   "metadata": {},
   "outputs": [],
   "source": [
    "data = np.random.normal(42, 27, size=100000) # with arbitary mean and sd"
   ]
  },
  {
   "cell_type": "code",
   "execution_count": 16,
   "metadata": {},
   "outputs": [
    {
     "data": {
      "image/png": "[encoded data removed]",
      "text/plain": [
       "<matplotlib.figure.Figure at 0x7f8c3a267e80>"
      ]
     },
     "metadata": {},
     "output_type": "display_data"
    }
   ],
   "source": [
    "_ = plt.hist(data,bins=100)"
   ]
  },
  {
   "cell_type": "code",
   "execution_count": 17,
   "metadata": {},
   "outputs": [],
   "source": [
    "x, y = ecdf(np.random.normal(size=100000))"
   ]
  },
  {
   "cell_type": "code",
   "execution_count": 18,
   "metadata": {},
   "outputs": [
    {
     "data": {
      "text/plain": [
       "[<matplotlib.lines.Line2D at 0x7f8c39f0f160>]"
      ]
     },
     "execution_count": 18,
     "metadata": {},
     "output_type": "execute_result"
    },
    {
     "data": {
      "image/png": "[encoded data removed]",
      "text/plain": [
       "<matplotlib.figure.Figure at 0x7f8c3c2dc5f8>"
      ]
     },
     "metadata": {},
     "output_type": "display_data"
    }
   ],
   "source": [
    "plt.plot(x, y)"
   ]
  },
  {
   "cell_type": "code",
   "execution_count": 19,
   "metadata": {},
   "outputs": [
    {
     "data": {
      "text/plain": [
       "(0, 1100)"
      ]
     },
     "execution_count": 19,
     "metadata": {},
     "output_type": "execute_result"
    },
    {
     "data": {
      "image/png": "[encoded data removed]",
      "text/plain": [
       "<matplotlib.figure.Figure at 0x7f8c39fee860>"
      ]
     },
     "metadata": {},
     "output_type": "display_data"
    }
   ],
   "source": [
    "plt.hist(y,bins=100)\n",
    "plt.xlim(-0.05, 1.05)\n",
    "plt.ylim(0, 1100)"
   ]
  },
  {
   "cell_type": "markdown",
   "metadata": {},
   "source": [
    "Distribution of $y$ is uniform."
   ]
  },
  {
   "cell_type": "markdown",
   "metadata": {},
   "source": [
    "### Q 2.4: Should you pay or should you go?"
   ]
  },
  {
   "cell_type": "markdown",
   "metadata": {},
   "source": [
    "Probability of getting head in the first toss is $1/2$ and I should pay \\$$1$\n",
    "\n",
    "sencond time: $1/4$ ($1/2$(all tails before) x $1/2$ (heads now)) and I pay \\$$2$\n",
    "\n",
    "...\n",
    "\n",
    "$n$'th time: $1/2^n$ and I pay $2^{(n-1)}$\n",
    "\n",
    "So expectation value of this is \n",
    "\n",
    "$\\lim_{N \\rightarrow inf} \\frac{1}{N}\\sum_{i=1}^N 1/2^n \\times 2^{(n-1)} = \\lim_{N \\rightarrow inf} \\frac{1}{N}\\sum_{i=1}^N \\frac{1}{2} = \\frac{1}{2}$\n",
    "\n",
    "So I would pay less than \\undeline 50 cents."
   ]
  },
  {
   "cell_type": "markdown",
   "metadata": {},
   "source": [
    "### Q 2.5: Uber vs. Lyft"
   ]
  },
  {
   "cell_type": "markdown",
   "metadata": {},
   "source": [
    "The probablity of each arriving before the another is constant so this is just a permutation problem.\n",
    "\n",
    "$P($all Lyfts first$)$ = $\\frac{permutation\\ of\\ all\\ first\\ Lyfts\\ \\times \\ permutation\\ of\\ all\\ last\\ Ubers}{all\\ permutations} = \\frac{3! x 2!}{6!} \\approx 0.0167$\n",
    "\n",
    "Since the equation above has no direction (i.e. P(all Uber first) = P(all Uber last)), then the probability is the same as $0.0167$."
   ]
  }
 ],
 "metadata": {
  "kernelspec": {
   "display_name": "Python 3",
   "language": "python",
   "name": "python3"
  },
  "language_info": {
   "codemirror_mode": {
    "name": "ipython",
    "version": 3
   },
   "file_extension": ".py",
   "mimetype": "text/x-python",
   "name": "python",
   "nbconvert_exporter": "python",
   "pygments_lexer": "ipython3",
   "version": "3.5.2"
  }
 },
 "nbformat": 4,
 "nbformat_minor": 2
}
